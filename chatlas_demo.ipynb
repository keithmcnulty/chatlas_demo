{
 "cells": [
  {
   "cell_type": "markdown",
   "id": "b598728966cda6c7",
   "metadata": {},
   "source": [
    "## The `chatlas` package for a consistent LLM interface and workflow\n",
    "\n",
    "One of the frustrations of working with different LLM providers is the difference in API structures.  This has historically meant that developers have had to code up their LLM workflows quite differently if they were working with, say, OpenAI versus Anthropic or Llama.\n",
    "\n",
    "The `chatlas` package attempts to overcome this by offering a set of classes and methods that have greater alignment across LLM providers.  This means that starting a chat, or using tool calling or other services will look the same or very similar, no matter which LLM provider you are using.  For those familiar, `chatlas` is basically the Python equivalent of R's `ellmer` package.\n",
    "\n",
    "The following is a short illustratory demo of some of the features of `chatlas`.\n",
    "\n",
    "### Starting a chat session - OpenAI example"
   ]
  },
  {
   "cell_type": "code",
   "execution_count": 3,
   "id": "initial_id",
   "metadata": {
    "collapsed": true
   },
   "outputs": [],
   "source": [
    "# import packages and key environment variables\n",
    "from dotenv import load_dotenv\n",
    "from chatlas import ChatOpenAI, ChatAnthropic, ChatOllama\n",
    "import os\n",
    "\n",
    "load_dotenv()\n",
    "INSTANCE_ID = os.getenv('INSTANCE_ID')\n",
    "API_KEY = os.getenv('API_KEY')\n",
    "BASE_URL_STEM = os.getenv('BASE_URL_STEM')"
   ]
  },
  {
   "cell_type": "code",
   "execution_count": 4,
   "id": "546d0dea3ecdc27b",
   "metadata": {},
   "outputs": [],
   "source": [
    "# set up an openai chat client\n",
    "PROVIDER = \"openai\"\n",
    "BASE_URL = f\"https://{PROVIDER}.{BASE_URL_STEM}/{INSTANCE_ID}/v1\"\n",
    "\n",
    "chat = ChatOpenAI(\n",
    "    model = \"gpt-4o\",\n",
    "    api_key = API_KEY,\n",
    "    base_url = BASE_URL,\n",
    "    system_prompt = \"You are a friendly but terse assistant.\",\n",
    ")"
   ]
  },
  {
   "cell_type": "code",
   "execution_count": null,
   "id": "de449303d11dbb99",
   "metadata": {},
   "outputs": [
    {
     "name": "stderr",
     "output_type": "stream",
     "text": [
      "INFO:     Started server process [3200]\n",
      "INFO:     Waiting for application startup.\n",
      "INFO:     Application startup complete.\n",
      "INFO:     Uvicorn running on http://127.0.0.1:39685 (Press CTRL+C to quit)\n"
     ]
    },
    {
     "name": "stdout",
     "output_type": "stream",
     "text": [
      "INFO:     127.0.0.1:51677 - \"GET / HTTP/1.1\" 200 OK\n",
      "INFO:     127.0.0.1:51678 - \"GET /lib/jquery-3.6.0/jquery-3.6.0.min.js HTTP/1.1\" 200 OK\n",
      "INFO:     127.0.0.1:51677 - \"GET /lib/requirejs-2.3.6/require.min.js HTTP/1.1\" 200 OK\n",
      "INFO:     127.0.0.1:51679 - \"GET /lib/shiny-busy-indicators-1.4.0/busy-indicators.css HTTP/1.1\" 200 OK\n",
      "INFO:     127.0.0.1:51681 - \"GET /lib/shiny-1.4.0/shiny.js HTTP/1.1\" 200 OK\n",
      "INFO:     127.0.0.1:51680 - \"GET /lib/bootstrap-5.3.1/bootstrap.min.css HTTP/1.1\" 200 OK\n",
      "INFO:     127.0.0.1:51682 - \"GET /lib/bootstrap-5.3.1/bootstrap.bundle.min.js HTTP/1.1\" 200 OK\n",
      "INFO:     127.0.0.1:51679 - \"GET /lib/shiny-chat-output-1.4.0/chat.css HTTP/1.1\" 200 OK\n",
      "INFO:     127.0.0.1:51680 - \"GET /lib/shiny-markdown-stream-1.4.0/markdown-stream.css HTTP/1.1\" 200 OK\n",
      "INFO:     127.0.0.1:51679 - \"GET /lib/shiny-textarea-autoresize-1.4.0/textarea-autoresize.css HTTP/1.1\" 200 OK\n",
      "INFO:     127.0.0.1:51679 - \"GET /lib/htmltools-fill-0.5.8.9000/fill.css HTTP/1.1\" 200 OK\n",
      "INFO:     127.0.0.1:51680 - \"GET /lib/bslib-components-0.9.0.9000/components.min.js HTTP/1.1\" 200 OK\n",
      "INFO:     127.0.0.1:51677 - \"GET /lib/bslib-components-0.9.0.9000/web-components.min.js HTTP/1.1\" 200 OK\n",
      "INFO:     127.0.0.1:51682 - \"GET /lib/ionrangeslider-2.3.1/js/ion.rangeSlider.min.js HTTP/1.1\" 200 OK\n",
      "INFO:     127.0.0.1:51679 - \"GET /lib/strftime-0.9.2/strftime-min.js HTTP/1.1\" 200 OK\n",
      "INFO:     127.0.0.1:51678 - \"GET /lib/bootstrap-datepicker-1.9.0/js/bootstrap-datepicker.min.js HTTP/1.1\" 200 OK\n",
      "INFO:     127.0.0.1:51680 - \"GET /lib/selectize-0.12.6/js/selectize.min.js HTTP/1.1\" 200 OK\n",
      "INFO:     127.0.0.1:51677 - \"GET /lib/selectize-0.12.6/accessibility/js/selectize-plugin-a11y.min.js HTTP/1.1\" 200 OK\n",
      "INFO:     127.0.0.1:51679 - \"GET /lib/shiny-chat-output-1.4.0/chat.js HTTP/1.1\" 200 OK\n",
      "INFO:     127.0.0.1:51681 - \"GET /lib/shiny-markdown-stream-1.4.0/markdown-stream.js HTTP/1.1\" 200 OK\n",
      "INFO:     127.0.0.1:51682 - \"GET /lib/shiny-textarea-autoresize-1.4.0/textarea-autoresize.js HTTP/1.1\" 200 OK\n",
      "INFO:     127.0.0.1:51677 - \"GET /lib/bootstrap-5.3.1/font.css HTTP/1.1\" 200 OK\n",
      "INFO:     127.0.0.1:51680 - \"GET /lib/bootstrap-5.3.1/fonts/memvYaGs126MiZpBA-UvWbX2vVnXBbObj2OVTS-muw.woff2 HTTP/1.1\" 200 OK\n"
     ]
    },
    {
     "name": "stderr",
     "output_type": "stream",
     "text": [
      "INFO:     ('127.0.0.1', 51683) - \"WebSocket /websocket/\" [accepted]\n",
      "INFO:     connection open\n"
     ]
    },
    {
     "name": "stdout",
     "output_type": "stream",
     "text": [
      "INFO:     127.0.0.1:51680 - \"GET /favicon.ico HTTP/1.1\" 404 Not Found\n"
     ]
    },
    {
     "name": "stderr",
     "output_type": "stream",
     "text": [
      "INFO:     connection closed\n"
     ]
    }
   ],
   "source": [
    "# start a chat app\n",
    "chat.app()"
   ]
  },
  {
   "cell_type": "code",
   "execution_count": null,
   "id": "233116d1326bace0",
   "metadata": {},
   "outputs": [],
   "source": [
    "# chat in the console\n",
    "chat.console()"
   ]
  },
  {
   "cell_type": "code",
   "execution_count": 6,
   "id": "ea91e7f6813d261f",
   "metadata": {},
   "outputs": [
    {
     "data": {
      "text/html": [
       "<div class='chatlas-markdown'>"
      ],
      "text/plain": [
       "<IPython.core.display.HTML object>"
      ]
     },
     "metadata": {},
     "output_type": "display_data"
    },
    {
     "data": {
      "text/markdown": [
       "<br>\n",
       "\n",
       "A spirit vegetable is more of a whimsical or humorous concept rather than something with a strict definition. It’s often used in a lighthearted way to describe a vegetable that resonates with someone’s personality or that they feel a special connection to. Think of it like a “spirit animal,” but in the vegetable world!"
      ],
      "text/plain": [
       "<IPython.core.display.Markdown object>"
      ]
     },
     "metadata": {},
     "output_type": "display_data"
    },
    {
     "data": {
      "text/plain": [
       "<chatlas._chat.ChatResponse at 0x108dcf1d0>"
      ]
     },
     "execution_count": 6,
     "metadata": {},
     "output_type": "execute_result"
    }
   ],
   "source": [
    "# programmatic chat\n",
    "chat.chat(\"What exactly is a spirit vegetable?\")"
   ]
  },
  {
   "cell_type": "markdown",
   "id": "8fba4e5b0fc732ef",
   "metadata": {},
   "source": [
    "### Tool (function) calling - OpenAI example"
   ]
  },
  {
   "cell_type": "code",
   "execution_count": 7,
   "id": "529b5c906fcffc52",
   "metadata": {},
   "outputs": [
    {
     "data": {
      "text/plain": [
       "'The current temperature in London is 13 degrees Celsius'"
      ]
     },
     "execution_count": 7,
     "metadata": {},
     "output_type": "execute_result"
    }
   ],
   "source": [
    "# tool (function) calling - function to get current temperature\n",
    "import requests\n",
    "\n",
    "# function to get the current temperature in a place\n",
    "def get_current_temperature(place: str) -> str:\n",
    "  \"\"\"Get the current temperature in a given place.\"\"\"\n",
    "  base_url = f\"https://wttr.in/{place}?format=j1\"\n",
    "  response = requests.get(base_url)\n",
    "  data = response.json()\n",
    "  return f\"The current temperature in {place} is {data['current_condition'][0]['temp_C']} degrees Celsius\"\n",
    "\n",
    "# test the function\n",
    "get_current_temperature(\"London\")"
   ]
  },
  {
   "cell_type": "code",
   "execution_count": 8,
   "id": "65defb7d518fddd8",
   "metadata": {},
   "outputs": [],
   "source": [
    "# register the function with your chat\n",
    "chat.register_tool(get_current_temperature)"
   ]
  },
  {
   "cell_type": "code",
   "execution_count": 9,
   "id": "34ad12d2a1ff5161",
   "metadata": {},
   "outputs": [
    {
     "data": {
      "text/html": [
       "<div class='chatlas-markdown'>"
      ],
      "text/plain": [
       "<IPython.core.display.HTML object>"
      ]
     },
     "metadata": {},
     "output_type": "display_data"
    },
    {
     "data": {
      "text/markdown": [
       "<br>\n",
       "\n",
       "\n",
       "\n",
       "```python\n",
       "# 🔧 tool request (call_tE5xW2RroS8scuWaCkm8tFco)\n",
       "get_current_temperature(place=Atlanta)\n",
       "```\n",
       "\n",
       "\n",
       "\n",
       "\n",
       "```python\n",
       "# ✅ tool result (call_tE5xW2RroS8scuWaCkm8tFco)\n",
       "The current temperature in Atlanta is 28 degrees Celsius\n",
       "```\n",
       "\n",
       "<br>\n",
       "\n",
       "The current temperature in Atlanta is 28°C (82°F), which is quite warm. You probably don't need warm clothes; lightweight and breathable clothing would be more comfortable."
      ],
      "text/plain": [
       "<IPython.core.display.Markdown object>"
      ]
     },
     "metadata": {},
     "output_type": "display_data"
    },
    {
     "data": {
      "text/plain": [
       "<chatlas._chat.ChatResponse at 0x10b20c090>"
      ]
     },
     "execution_count": 9,
     "metadata": {},
     "output_type": "execute_result"
    }
   ],
   "source": [
    "# now the chat can use it\n",
    "chat.chat(\"I'm in Atlanta today and I'm told I should wear warm clothes.  What do you think?\")"
   ]
  },
  {
   "cell_type": "markdown",
   "id": "efa6cc578725c5ed",
   "metadata": {},
   "source": [
    "### Structured data extraction - OpenAI example"
   ]
  },
  {
   "cell_type": "code",
   "execution_count": 10,
   "id": "67578dd3cd639983",
   "metadata": {},
   "outputs": [
    {
     "data": {
      "text/plain": [
       "{'name': 'Keith', 'pets': 3, 'skills': ['Math', 'Computer Games']}"
      ]
     },
     "execution_count": 10,
     "metadata": {},
     "output_type": "execute_result"
    }
   ],
   "source": [
    "# pulling structured data out of text\n",
    "from pydantic import BaseModel\n",
    "\n",
    "class Person(BaseModel):\n",
    "    name: str\n",
    "    pets: int\n",
    "    skills: list[str]\n",
    "\n",
    "chat.extract_data(\n",
    "  \"My name is Keith.  I have two cats and one dog named Bertie.  I am very good at Math and Computer Games\", \n",
    "  data_model=Person,\n",
    ")"
   ]
  },
  {
   "cell_type": "markdown",
   "id": "ccccb8701a354ccf",
   "metadata": {},
   "source": [
    "### Start a new chat - Anthropic example"
   ]
  },
  {
   "cell_type": "code",
   "execution_count": 11,
   "id": "76591f56b64f261d",
   "metadata": {},
   "outputs": [],
   "source": [
    "# now try a Anthropic chat client- note similar but not 100% identical to OpenAI\n",
    "PROVIDER = \"anthropic\"\n",
    "BASE_URL = f\"https://{PROVIDER}.{BASE_URL_STEM}/{INSTANCE_ID}\"\n",
    "\n",
    "chat = ChatAnthropic(\n",
    "    api_key = API_KEY,\n",
    "    system_prompt = \"You are a friendly but terse assistant.\",\n",
    "    kwargs = {\"base_url\": BASE_URL}  \n",
    ")"
   ]
  },
  {
   "cell_type": "code",
   "execution_count": 12,
   "id": "d70ea9b886585d52",
   "metadata": {},
   "outputs": [
    {
     "data": {
      "text/html": [
       "<div class='chatlas-markdown'>"
      ],
      "text/plain": [
       "<IPython.core.display.HTML object>"
      ]
     },
     "metadata": {},
     "output_type": "display_data"
    },
    {
     "data": {
      "text/markdown": [
       "<br>\n",
       "\n",
       "42."
      ],
      "text/plain": [
       "<IPython.core.display.Markdown object>"
      ]
     },
     "metadata": {},
     "output_type": "display_data"
    },
    {
     "data": {
      "text/plain": [
       "<chatlas._chat.ChatResponse at 0x10957fbd0>"
      ]
     },
     "execution_count": 12,
     "metadata": {},
     "output_type": "execute_result"
    }
   ],
   "source": [
    "# programmatic chat\n",
    "chat.chat(\"Which integer is commonly quoted as the answer to the meaning of life?\")"
   ]
  },
  {
   "cell_type": "code",
   "execution_count": 13,
   "id": "9c96a9651a03fb06",
   "metadata": {},
   "outputs": [],
   "source": [
    "# register tool\n",
    "chat.register_tool(get_current_temperature)"
   ]
  },
  {
   "cell_type": "code",
   "execution_count": 14,
   "id": "5e4c3154775c5434",
   "metadata": {},
   "outputs": [
    {
     "data": {
      "text/html": [
       "<div class='chatlas-markdown'>"
      ],
      "text/plain": [
       "<IPython.core.display.HTML object>"
      ]
     },
     "metadata": {},
     "output_type": "display_data"
    },
    {
     "data": {
      "text/markdown": [
       "<br>\n",
       "\n",
       "To advise on packing for your sister's trip to Oslo (the capital of Norway), I'll need to check the current temperature there.\n",
       "\n",
       "```python\n",
       "# 🔧 tool request (toolu_01NRn7QGuVXV7di9MYjGR8oj)\n",
       "get_current_temperature(place=Oslo, Norway)\n",
       "```\n",
       "\n",
       "\n",
       "\n",
       "\n",
       "```python\n",
       "# ✅ tool result (toolu_01NRn7QGuVXV7di9MYjGR8oj)\n",
       "The current temperature in Oslo, Norway is 19 degrees Celsius\n",
       "```\n",
       "\n",
       "<br>\n",
       "\n",
       "Based on the current temperature of 19°C (66°F) in Oslo, your sister should pack:\n",
       "\n",
       "- Light to medium weight clothing\n",
       "- A light jacket or sweater for cooler evenings\n",
       "- Comfortable walking shoes\n",
       "- A light rain jacket (Oslo can experience occasional rain)\n",
       "- Layers to adjust to temperature changes throughout the day\n",
       "\n",
       "The weather is relatively mild right now, but she should check the forecast closer to her travel date as conditions may change."
      ],
      "text/plain": [
       "<IPython.core.display.Markdown object>"
      ]
     },
     "metadata": {},
     "output_type": "display_data"
    },
    {
     "data": {
      "text/plain": [
       "<chatlas._chat.ChatResponse at 0x10c012010>"
      ]
     },
     "execution_count": 14,
     "metadata": {},
     "output_type": "execute_result"
    }
   ],
   "source": [
    "# check tool use\n",
    "chat.chat(\"My sister is heading to the capital of Norway next week?  How should she pack?\")"
   ]
  },
  {
   "cell_type": "code",
   "execution_count": 15,
   "id": "5ecd70896b849393",
   "metadata": {},
   "outputs": [
    {
     "data": {
      "text/plain": [
       "{'name': 'Keith',\n",
       " 'pets': 1,\n",
       " 'areas_of_expertise': ['Pure Mathematics', 'Music', 'Recorder'],\n",
       " 'qualifications': ['PhD in Pure Mathematics',\n",
       "  'Licentiate Performing Diploma from Trinity College of Music in London']}"
      ]
     },
     "execution_count": 15,
     "metadata": {},
     "output_type": "execute_result"
    }
   ],
   "source": [
    "#  extract structured data\n",
    "class Person(BaseModel):\n",
    "    name: str\n",
    "    pets: int\n",
    "    areas_of_expertise: list[str]\n",
    "    qualifications: list[str]\n",
    "\n",
    "chat.extract_data(\n",
    "  \"\"\"\n",
    "  My name is Keith.  I had two cats and one dog named Bertie, but I recently sold the two cats.  I have a PhD in Pure Mathematics, and I am also a holder of the Licentiate Performing Diploma from Trinity College of Music in London, taking my final exams in the Recorder.\n",
    "  \"\"\", \n",
    "  data_model = Person,\n",
    ")"
   ]
  },
  {
   "cell_type": "code",
   "execution_count": 16,
   "id": "584f688d80d5c25",
   "metadata": {},
   "outputs": [
    {
     "data": {
      "text/plain": [
       "{'name': 'Keith',\n",
       " 'pets': 2,\n",
       " 'areas_of_expertise': ['Pure Mathematics', 'Music', 'Recorder'],\n",
       " 'qualifications': ['PhD in Pure Mathematics',\n",
       "  'Licentiate Performing Diploma from Trinity College of Music']}"
      ]
     },
     "execution_count": 16,
     "metadata": {},
     "output_type": "execute_result"
    }
   ],
   "source": [
    "# update structured information during chat session\n",
    "chat.extract_data(\n",
    "  \"\"\"\n",
    "  Oh it's Keith again.  I'm sorry, I'm so dumb.  I forgot to mention I also have a new puppy which we only just picked up this week.\n",
    "  \"\"\", \n",
    "  data_model = Person,\n",
    ")"
   ]
  },
  {
   "cell_type": "code",
   "execution_count": 17,
   "id": "11066ac7cdd4c858",
   "metadata": {},
   "outputs": [
    {
     "data": {
      "text/plain": [
       "{'name': 'Keith',\n",
       " 'pets': 1,\n",
       " 'areas_of_expertise': ['Pure Mathematics', 'Music', 'Recorder'],\n",
       " 'qualifications': ['PhD in Pure Mathematics',\n",
       "  'Licentiate Performing Diploma from Trinity College of Music']}"
      ]
     },
     "execution_count": 17,
     "metadata": {},
     "output_type": "execute_result"
    }
   ],
   "source": [
    "# update again\n",
    "chat.extract_data(\n",
    "  \"\"\"\n",
    "  It's Keith again.  I just spoke to my wife and she left the door open and the puppy ran out on the street and got killed.  It's a bad day.\n",
    "  \"\"\", \n",
    "  data_model = Person,\n",
    ")"
   ]
  },
  {
   "cell_type": "markdown",
   "id": "3cbaa26f33279b2a",
   "metadata": {},
   "source": [
    "### New chat session with local model using `ollama`"
   ]
  },
  {
   "cell_type": "code",
   "execution_count": 18,
   "id": "27732f5e50317742",
   "metadata": {},
   "outputs": [],
   "source": [
    "# local ollama model\n",
    "chat = ChatOllama(\n",
    "    model = \"llama3.1:8b\",\n",
    "    system_prompt = \"You are a friendly but terse assistant.\",\n",
    ")"
   ]
  },
  {
   "cell_type": "code",
   "execution_count": 19,
   "id": "f962533a0b10ae32",
   "metadata": {},
   "outputs": [
    {
     "data": {
      "text/html": [
       "<div class='chatlas-markdown'>"
      ],
      "text/plain": [
       "<IPython.core.display.HTML object>"
      ]
     },
     "metadata": {},
     "output_type": "display_data"
    },
    {
     "data": {
      "text/markdown": [
       "<br>\n",
       "\n",
       "Buddhism is a spiritual path that aims to help individuals achieve enlightenment and end suffering through the understanding of the Four Noble Truths: that life is full of impermanence, dissatisfaction, and uncertainty. By cultivating mindfulness, detachment, and compassion, Buddhists strive towards a state of Nirvana, where all desires and egoic tendencies are transcended."
      ],
      "text/plain": [
       "<IPython.core.display.Markdown object>"
      ]
     },
     "metadata": {},
     "output_type": "display_data"
    },
    {
     "data": {
      "text/plain": [
       "<chatlas._chat.ChatResponse at 0x10b5f1dd0>"
      ]
     },
     "execution_count": 19,
     "metadata": {},
     "output_type": "execute_result"
    }
   ],
   "source": [
    "# programmatic chat\n",
    "chat.chat(\"Explain Buddhism in two sentences\")"
   ]
  },
  {
   "cell_type": "code",
   "execution_count": 20,
   "id": "6cc03b776b958a08",
   "metadata": {},
   "outputs": [
    {
     "data": {
      "text/plain": [
       "{'name': 'Keith',\n",
       " 'pets': 1,\n",
       " 'areas_of_expertise': ['Pure Mathematics', 'Recorder'],\n",
       " 'qualifications': ['PhD',\n",
       "  'Licentiate Performing Diploma (Trinity College of Music)']}"
      ]
     },
     "execution_count": 20,
     "metadata": {},
     "output_type": "execute_result"
    }
   ],
   "source": [
    "# extract data using earlier data model\n",
    "chat.extract_data(\n",
    "      \"\"\"\n",
    "  My name is Keith.  I had two cats and one dog named Bertie, but I recently sold the two cats.  I have a PhD in Pure Mathematics, and I am also a holder of the Licentiate Performing Diploma from Trinity College of Music in London, taking my final exams in the Recorder.\n",
    "  \"\"\", \n",
    "  data_model = Person,\n",
    ")"
   ]
  },
  {
   "cell_type": "code",
   "execution_count": 21,
   "id": "c877db11aa0a14f",
   "metadata": {},
   "outputs": [],
   "source": [
    "# register temperature tool\n",
    "chat.register_tool(get_current_temperature)"
   ]
  },
  {
   "cell_type": "code",
   "execution_count": 22,
   "id": "b3c8f9dea04b01db",
   "metadata": {},
   "outputs": [
    {
     "data": {
      "text/html": [
       "<div class='chatlas-markdown'>"
      ],
      "text/plain": [
       "<IPython.core.display.HTML object>"
      ]
     },
     "metadata": {},
     "output_type": "display_data"
    },
    {
     "data": {
      "text/markdown": [
       "<br>\n",
       "\n",
       "\n",
       "\n",
       "```python\n",
       "# 🔧 tool request (call_ri95nnxj)\n",
       "get_current_temperature(place=Hobart)\n",
       "```\n",
       "\n",
       "\n",
       "\n",
       "\n",
       "```python\n",
       "# ✅ tool result (call_ri95nnxj)\n",
       "The current temperature in Hobart is 10 degrees Celsius\n",
       "```\n",
       "\n",
       "<br>\n",
       "\n",
       "You might want to consider purchasing some sunscreen in Tasmania, as the UV index and sun protection rating are moderate to high during your visit. You can find sunscreen at most pharmacies or supermarkets in major towns like Hobart and Launceston. Don't worry too much about it, but a bit of precaution won't hurt!"
      ],
      "text/plain": [
       "<IPython.core.display.Markdown object>"
      ]
     },
     "metadata": {},
     "output_type": "display_data"
    },
    {
     "data": {
      "text/plain": [
       "<chatlas._chat.ChatResponse at 0x10c03d650>"
      ]
     },
     "execution_count": 22,
     "metadata": {},
     "output_type": "execute_result"
    }
   ],
   "source": [
    "# use temperature tool\n",
    "chat.chat(\"I'm heading to Tasmania tomorrow but I forgot my sunscreen.  Should I be concerned?\")"
   ]
  }
 ],
 "metadata": {
  "kernelspec": {
   "display_name": "chatlas_demo",
   "language": "python",
   "name": "python3"
  },
  "language_info": {
   "codemirror_mode": {
    "name": "ipython",
    "version": 3
   },
   "file_extension": ".py",
   "mimetype": "text/x-python",
   "name": "python",
   "nbconvert_exporter": "python",
   "pygments_lexer": "ipython3",
   "version": "3.11.11"
  }
 },
 "nbformat": 4,
 "nbformat_minor": 5
}

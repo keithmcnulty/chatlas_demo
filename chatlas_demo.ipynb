{
 "cells": [
  {
   "cell_type": "markdown",
   "id": "b598728966cda6c7",
   "metadata": {},
   "source": [
    "## The `chatlas` package for a consistent LLM interface and workflow\n",
    "\n",
    "One of the frustrations of working with different LLM providers is the difference in API structures.  This has historically meant that developers have had to code up their LLM workflows quite differently if they were working with, say, OpenAI versus Anthropic or Llama.\n",
    "\n",
    "The `chatlas` package attempts to overcome this by offering a set of classes and methods that have greater alignment across LLM providers.  This means that starting a chat, or using tool calling or other services will look the same or very similar, no matter which LLM provider you are using.  For those familiar, `chatlas` is basically the Python equivalent of R's `ellmer` package.\n",
    "\n",
    "The following is a short illustratory demo of some of the features of `chatlas`.\n",
    "\n",
    "### Starting a chat session - OpenAI example"
   ]
  },
  {
   "cell_type": "code",
   "execution_count": 1,
   "id": "initial_id",
   "metadata": {
    "collapsed": true
   },
   "outputs": [],
   "source": [
    "# import packages and key environment variables\n",
    "from dotenv import load_dotenv\n",
    "from chatlas import ChatOpenAI, ChatAnthropic, ChatOllama\n",
    "import os\n",
    "\n",
    "load_dotenv()\n",
    "INSTANCE_ID = os.getenv('INSTANCE_ID')\n",
    "API_KEY = os.getenv('API_KEY')\n",
    "BASE_URL_STEM = os.getenv('BASE_URL_STEM')"
   ]
  },
  {
   "cell_type": "code",
   "execution_count": 2,
   "id": "546d0dea3ecdc27b",
   "metadata": {},
   "outputs": [],
   "source": [
    "# set up an openai chat client\n",
    "PROVIDER = \"openai\"\n",
    "BASE_URL = f\"https://{PROVIDER}.{BASE_URL_STEM}/{INSTANCE_ID}/v1\"\n",
    "\n",
    "chat = ChatOpenAI(\n",
    "    model = \"gpt-4o\",\n",
    "    api_key = API_KEY,\n",
    "    base_url = BASE_URL,\n",
    "    system_prompt = \"You are a friendly but terse assistant.\",\n",
    ")"
   ]
  },
  {
   "cell_type": "code",
   "execution_count": null,
   "id": "de449303d11dbb99",
   "metadata": {},
   "outputs": [],
   "source": [
    "# start a chat app\n",
    "chat.app()"
   ]
  },
  {
   "cell_type": "code",
   "execution_count": null,
   "id": "233116d1326bace0",
   "metadata": {},
   "outputs": [],
   "source": [
    "# chat in the console\n",
    "chat.console()"
   ]
  },
  {
   "cell_type": "code",
   "execution_count": 3,
   "id": "ea91e7f6813d261f",
   "metadata": {},
   "outputs": [
    {
     "data": {
      "text/html": [
       "<div class='chatlas-markdown'>"
      ],
      "text/plain": [
       "<IPython.core.display.HTML object>"
      ]
     },
     "metadata": {},
     "output_type": "display_data"
    },
    {
     "data": {
      "text/markdown": [
       "<br>\n",
       "\n",
       "A spirit vegetable is a concept similar to a \"spirit animal,\" but instead of representing a guiding animal, it represents a vegetable that embodies aspects of your personality or traits you identify with. It's often used humorously or metaphorically to showcase personal characteristics or preferences."
      ],
      "text/plain": [
       "<IPython.core.display.Markdown object>"
      ]
     },
     "metadata": {},
     "output_type": "display_data"
    },
    {
     "data": {
      "text/plain": [
       "<chatlas._chat.ChatResponse at 0x11719fa10>"
      ]
     },
     "execution_count": 3,
     "metadata": {},
     "output_type": "execute_result"
    }
   ],
   "source": [
    "# programmatic chat\n",
    "chat.chat(\"What exactly is a spirit vegetable?\")"
   ]
  },
  {
   "cell_type": "markdown",
   "id": "8fba4e5b0fc732ef",
   "metadata": {},
   "source": [
    "### Tool (function) calling - OpenAI example"
   ]
  },
  {
   "cell_type": "code",
   "execution_count": 4,
   "id": "529b5c906fcffc52",
   "metadata": {},
   "outputs": [
    {
     "data": {
      "text/plain": [
       "'The current temperature in London is 13 degrees Celsius'"
      ]
     },
     "execution_count": 4,
     "metadata": {},
     "output_type": "execute_result"
    }
   ],
   "source": [
    "# tool (function) calling - function to get current temperature\n",
    "import requests\n",
    "\n",
    "# function to get the current temperature in a place\n",
    "def get_current_temperature(place: str) -> str:\n",
    "  \"\"\"Get the current temperature in a given place.\"\"\"\n",
    "  base_url = f\"https://wttr.in/{place}?format=j1\"\n",
    "  response = requests.get(base_url)\n",
    "  data = response.json()\n",
    "  return f\"The current temperature in {place} is {data['current_condition'][0]['temp_C']} degrees Celsius\"\n",
    "\n",
    "# test the function\n",
    "get_current_temperature(\"London\")"
   ]
  },
  {
   "cell_type": "code",
   "execution_count": 5,
   "id": "65defb7d518fddd8",
   "metadata": {},
   "outputs": [],
   "source": [
    "# register the function with your chat\n",
    "chat.register_tool(get_current_temperature)"
   ]
  },
  {
   "cell_type": "code",
   "execution_count": 6,
   "id": "34ad12d2a1ff5161",
   "metadata": {},
   "outputs": [
    {
     "data": {
      "text/html": [
       "<div class='chatlas-markdown'>"
      ],
      "text/plain": [
       "<IPython.core.display.HTML object>"
      ]
     },
     "metadata": {},
     "output_type": "display_data"
    },
    {
     "data": {
      "text/markdown": [
       "<br>\n",
       "\n",
       "\n",
       "\n",
       "```python\n",
       "# 🔧 tool request (call_NGnedemBOwe2F3VRyIPgNHRE)\n",
       "get_current_temperature(place=Atlanta)\n",
       "```\n",
       "\n",
       "\n",
       "\n",
       "\n",
       "```python\n",
       "# ✅ tool result (call_NGnedemBOwe2F3VRyIPgNHRE)\n",
       "The current temperature in Atlanta is 22 degrees Celsius\n",
       "```\n",
       "\n",
       "<br>\n",
       "\n",
       "The current temperature in Atlanta is 22 degrees Celsius (about 72 degrees Fahrenheit). That's quite mild, so you might not need very warm clothes. Dressing in layers could be a comfortable choice."
      ],
      "text/plain": [
       "<IPython.core.display.Markdown object>"
      ]
     },
     "metadata": {},
     "output_type": "display_data"
    },
    {
     "data": {
      "text/plain": [
       "<chatlas._chat.ChatResponse at 0x117c25750>"
      ]
     },
     "execution_count": 6,
     "metadata": {},
     "output_type": "execute_result"
    }
   ],
   "source": [
    "# now the chat can use it\n",
    "chat.chat(\"I'm in Atlanta today and I'm told I should wear warm clothes.  What do you think?\")"
   ]
  },
  {
   "cell_type": "markdown",
   "id": "efa6cc578725c5ed",
   "metadata": {},
   "source": [
    "### Structured data extraction - OpenAI example"
   ]
  },
  {
   "cell_type": "code",
   "execution_count": 7,
   "id": "67578dd3cd639983",
   "metadata": {},
   "outputs": [
    {
     "data": {
      "text/plain": [
       "{'name': 'Keith', 'pets': 3, 'skills': ['Math', 'Computer Games']}"
      ]
     },
     "execution_count": 7,
     "metadata": {},
     "output_type": "execute_result"
    }
   ],
   "source": [
    "# pulling structured data out of text\n",
    "from pydantic import BaseModel\n",
    "\n",
    "class Person(BaseModel):\n",
    "    name: str\n",
    "    pets: int\n",
    "    skills: list[str]\n",
    "\n",
    "chat.extract_data(\n",
    "  \"My name is Keith.  I have two cats and one dog named Bertie.  I am very good at Math and Computer Games\", \n",
    "  data_model=Person,\n",
    ")"
   ]
  },
  {
   "cell_type": "markdown",
   "id": "ccccb8701a354ccf",
   "metadata": {},
   "source": [
    "### Start a new chat - Anthropic example"
   ]
  },
  {
   "cell_type": "code",
   "execution_count": 8,
   "id": "76591f56b64f261d",
   "metadata": {},
   "outputs": [],
   "source": [
    "# now try a Anthropic chat client- note similar but not 100% identical to OpenAI\n",
    "PROVIDER = \"anthropic\"\n",
    "BASE_URL = f\"https://{PROVIDER}.{BASE_URL_STEM}/{INSTANCE_ID}\"\n",
    "\n",
    "chat = ChatAnthropic(\n",
    "    api_key = API_KEY,\n",
    "    system_prompt = \"You are a friendly but terse assistant.\",\n",
    "    kwargs = {\"base_url\": BASE_URL}  \n",
    ")"
   ]
  },
  {
   "cell_type": "code",
   "execution_count": 9,
   "id": "d70ea9b886585d52",
   "metadata": {},
   "outputs": [
    {
     "data": {
      "text/html": [
       "<div class='chatlas-markdown'>"
      ],
      "text/plain": [
       "<IPython.core.display.HTML object>"
      ]
     },
     "metadata": {},
     "output_type": "display_data"
    },
    {
     "data": {
      "text/markdown": [
       "<br>\n",
       "\n",
       "42, from \"The Hitchhiker's Guide to the Galaxy\" by Douglas Adams."
      ],
      "text/plain": [
       "<IPython.core.display.Markdown object>"
      ]
     },
     "metadata": {},
     "output_type": "display_data"
    },
    {
     "data": {
      "text/plain": [
       "<chatlas._chat.ChatResponse at 0x117c29510>"
      ]
     },
     "execution_count": 9,
     "metadata": {},
     "output_type": "execute_result"
    }
   ],
   "source": [
    "# programmatic chat\n",
    "chat.chat(\"Which integer is commonly quoted as the answer to the meaning of life?\")"
   ]
  },
  {
   "cell_type": "code",
   "execution_count": 10,
   "id": "9c96a9651a03fb06",
   "metadata": {},
   "outputs": [],
   "source": [
    "# register tool\n",
    "chat.register_tool(get_current_temperature)"
   ]
  },
  {
   "cell_type": "code",
   "execution_count": 11,
   "id": "5e4c3154775c5434",
   "metadata": {},
   "outputs": [
    {
     "data": {
      "text/html": [
       "<div class='chatlas-markdown'>"
      ],
      "text/plain": [
       "<IPython.core.display.HTML object>"
      ]
     },
     "metadata": {},
     "output_type": "display_data"
    },
    {
     "data": {
      "text/markdown": [
       "<br>\n",
       "\n",
       "Your sister is heading to Oslo, the capital of Norway. To advise on packing, I should check the current temperature there.\n",
       "\n",
       "```python\n",
       "# 🔧 tool request (toolu_016VfaGGMyKQ7hZJkq4KTvcS)\n",
       "get_current_temperature(place=Oslo, Norway)\n",
       "```\n",
       "\n",
       "\n",
       "\n",
       "\n",
       "```python\n",
       "# ✅ tool result (toolu_016VfaGGMyKQ7hZJkq4KTvcS)\n",
       "The current temperature in Oslo, Norway is 19 degrees Celsius\n",
       "```\n",
       "\n",
       "<br>\n",
       "\n",
       "Based on the current temperature of 19°C (66°F) in Oslo, your sister should pack for mild weather. I'd suggest:\n",
       "\n",
       "- Light to medium jackets or sweaters\n",
       "- Mix of short and long sleeve shirts for layering\n",
       "- Comfortable walking shoes\n",
       "- A light rain jacket (Norway can be rainy)\n",
       "- Standard travel essentials\n",
       "\n",
       "The weather is relatively pleasant now, but she should check the forecast closer to her trip as conditions in Norway can change."
      ],
      "text/plain": [
       "<IPython.core.display.Markdown object>"
      ]
     },
     "metadata": {},
     "output_type": "display_data"
    },
    {
     "data": {
      "text/plain": [
       "<chatlas._chat.ChatResponse at 0x117f67c50>"
      ]
     },
     "execution_count": 11,
     "metadata": {},
     "output_type": "execute_result"
    }
   ],
   "source": [
    "# check tool use\n",
    "chat.chat(\"My sister is heading to the capital of Norway next week?  How should she pack?\")"
   ]
  },
  {
   "cell_type": "code",
   "execution_count": 12,
   "id": "5ecd70896b849393",
   "metadata": {},
   "outputs": [
    {
     "data": {
      "text/plain": [
       "{'name': 'Keith',\n",
       " 'pets': 1,\n",
       " 'areas_of_expertise': ['Pure Mathematics', 'Music', 'Recorder'],\n",
       " 'qualifications': ['PhD in Pure Mathematics',\n",
       "  'Licentiate Performing Diploma from Trinity College of Music']}"
      ]
     },
     "execution_count": 12,
     "metadata": {},
     "output_type": "execute_result"
    }
   ],
   "source": [
    "#  extract structured data\n",
    "class Person(BaseModel):\n",
    "    name: str\n",
    "    pets: int\n",
    "    areas_of_expertise: list[str]\n",
    "    qualifications: list[str]\n",
    "\n",
    "chat.extract_data(\n",
    "  \"\"\"\n",
    "  My name is Keith.  I had two cats and one dog named Bertie, but I recently sold the two cats.  I have a PhD in Pure Mathematics, and I am also a holder of the Licentiate Performing Diploma from Trinity College of Music in London, taking my final exams in the Recorder.\n",
    "  \"\"\", \n",
    "  data_model = Person,\n",
    ")"
   ]
  },
  {
   "cell_type": "code",
   "execution_count": 13,
   "id": "584f688d80d5c25",
   "metadata": {},
   "outputs": [
    {
     "data": {
      "text/plain": [
       "{'name': 'Keith',\n",
       " 'pets': 2,\n",
       " 'areas_of_expertise': ['Pure Mathematics', 'Music', 'Recorder'],\n",
       " 'qualifications': ['PhD in Pure Mathematics',\n",
       "  'Licentiate Performing Diploma from Trinity College of Music']}"
      ]
     },
     "execution_count": 13,
     "metadata": {},
     "output_type": "execute_result"
    }
   ],
   "source": [
    "# update structured information during chat session\n",
    "chat.extract_data(\n",
    "  \"\"\"\n",
    "  Oh it's Keith again.  I'm sorry, I'm so dumb.  I forgot to mention I also have a new puppy which we only just picked up this week.\n",
    "  \"\"\", \n",
    "  data_model = Person,\n",
    ")"
   ]
  },
  {
   "cell_type": "code",
   "execution_count": 14,
   "id": "11066ac7cdd4c858",
   "metadata": {},
   "outputs": [
    {
     "data": {
      "text/plain": [
       "{'name': 'Keith',\n",
       " 'pets': 1,\n",
       " 'areas_of_expertise': ['Pure Mathematics', 'Music', 'Recorder'],\n",
       " 'qualifications': ['PhD in Pure Mathematics',\n",
       "  'Licentiate Performing Diploma from Trinity College of Music']}"
      ]
     },
     "execution_count": 14,
     "metadata": {},
     "output_type": "execute_result"
    }
   ],
   "source": [
    "# update again\n",
    "chat.extract_data(\n",
    "  \"\"\"\n",
    "  It's Keith again.  I just spoke to my wife and she left the door open and the puppy ran out on the street and got killed.  It's a bad day.\n",
    "  \"\"\", \n",
    "  data_model = Person,\n",
    ")"
   ]
  },
  {
   "cell_type": "markdown",
   "id": "3cbaa26f33279b2a",
   "metadata": {},
   "source": [
    "### New chat session with local model using `ollama`"
   ]
  },
  {
   "cell_type": "code",
   "execution_count": 15,
   "id": "27732f5e50317742",
   "metadata": {},
   "outputs": [],
   "source": [
    "# local ollama model\n",
    "chat = ChatOllama(\n",
    "    model = \"llama3.1:8b\",\n",
    "    system_prompt = \"You are a friendly but terse assistant.\",\n",
    ")"
   ]
  },
  {
   "cell_type": "code",
   "execution_count": 16,
   "id": "f962533a0b10ae32",
   "metadata": {},
   "outputs": [
    {
     "data": {
      "text/html": [
       "<div class='chatlas-markdown'>"
      ],
      "text/plain": [
       "<IPython.core.display.HTML object>"
      ]
     },
     "metadata": {},
     "output_type": "display_data"
    },
    {
     "data": {
      "text/markdown": [
       "<br>\n",
       "\n",
       "Buddhism is a spiritual path that aims to end suffering by understanding and letting go of the causes of our pain – typically through recognizing the impermanence and illusiveness of all things, including ourselves. The ultimate goal is liberation from this cycle, known as Nirvana, achieved by following the Eightfold Path and cultivating mindfulness and compassion."
      ],
      "text/plain": [
       "<IPython.core.display.Markdown object>"
      ]
     },
     "metadata": {},
     "output_type": "display_data"
    },
    {
     "data": {
      "text/plain": [
       "<chatlas._chat.ChatResponse at 0x117eefe10>"
      ]
     },
     "execution_count": 16,
     "metadata": {},
     "output_type": "execute_result"
    }
   ],
   "source": [
    "# programmatic chat\n",
    "chat.chat(\"Explain Buddhism in two sentences\")"
   ]
  },
  {
   "cell_type": "code",
   "execution_count": 17,
   "id": "6cc03b776b958a08",
   "metadata": {},
   "outputs": [
    {
     "data": {
      "text/plain": [
       "{'name': 'Keith',\n",
       " 'pets': 1,\n",
       " 'areas_of_expertise': ['Pure mathematics'],\n",
       " 'qualifications': ['PhD, Music']}"
      ]
     },
     "execution_count": 17,
     "metadata": {},
     "output_type": "execute_result"
    }
   ],
   "source": [
    "# extract data using earlier data model\n",
    "chat.extract_data(\n",
    "      \"\"\"\n",
    "  My name is Keith.  I had two cats and one dog named Bertie, but I recently sold the two cats.  I have a PhD in Pure Mathematics, and I am also a holder of the Licentiate Performing Diploma from Trinity College of Music in London, taking my final exams in the Recorder.\n",
    "  \"\"\", \n",
    "  data_model = Person,\n",
    ")"
   ]
  },
  {
   "cell_type": "code",
   "execution_count": 18,
   "id": "c877db11aa0a14f",
   "metadata": {},
   "outputs": [],
   "source": [
    "# register temperature tool\n",
    "chat.register_tool(get_current_temperature)"
   ]
  },
  {
   "cell_type": "code",
   "execution_count": 19,
   "id": "b3c8f9dea04b01db",
   "metadata": {},
   "outputs": [
    {
     "data": {
      "text/html": [
       "<div class='chatlas-markdown'>"
      ],
      "text/plain": [
       "<IPython.core.display.HTML object>"
      ]
     },
     "metadata": {},
     "output_type": "display_data"
    },
    {
     "data": {
      "text/markdown": [
       "<br>\n",
       "\n",
       "\n",
       "\n",
       "```python\n",
       "# 🔧 tool request (call_imi9ak7k)\n",
       "get_current_temperature(place=Tasmania)\n",
       "```\n",
       "\n",
       "\n",
       "\n",
       "\n",
       "```python\n",
       "# ✅ tool result (call_imi9ak7k)\n",
       "The current temperature in Tasmania is 8 degrees Celsius\n",
       "```\n",
       "\n",
       "<br>\n",
       "\n",
       "You still shouldn't be too concerned about the sunscreen, although it's a good reminder to pack some. However, you might want to prioritize packing warm clothing for your visit to Tasmania instead - it can get quite chilly there!"
      ],
      "text/plain": [
       "<IPython.core.display.Markdown object>"
      ]
     },
     "metadata": {},
     "output_type": "display_data"
    },
    {
     "data": {
      "text/plain": [
       "<chatlas._chat.ChatResponse at 0x120127490>"
      ]
     },
     "execution_count": 19,
     "metadata": {},
     "output_type": "execute_result"
    }
   ],
   "source": [
    "# use temperature tool\n",
    "chat.chat(\"I'm heading to Tasmania tomorrow but I forgot my sunscreen.  Should I be concerned?\")"
   ]
  },
  {
   "cell_type": "code",
   "execution_count": null,
   "id": "8eab7d4d",
   "metadata": {},
   "outputs": [],
   "source": []
  }
 ],
 "metadata": {
  "kernelspec": {
   "display_name": "chatlas_demo",
   "language": "python",
   "name": "python3"
  },
  "language_info": {
   "codemirror_mode": {
    "name": "ipython",
    "version": 3
   },
   "file_extension": ".py",
   "mimetype": "text/x-python",
   "name": "python",
   "nbconvert_exporter": "python",
   "pygments_lexer": "ipython3",
   "version": "3.11.11"
  }
 },
 "nbformat": 4,
 "nbformat_minor": 5
}

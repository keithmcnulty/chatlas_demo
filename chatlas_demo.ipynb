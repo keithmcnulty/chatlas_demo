{
 "cells": [
  {
   "metadata": {},
   "cell_type": "markdown",
   "source": [
    "## The `chatlas` package for a consistent LLM interface and workflow\n",
    "\n",
    "One of the frustrations of working with different LLM providers is the difference in API structures.  This has historically meant that developers have had to code up their LLM workflows quite differently if they were working with, say, OpenAI versus Anthropic or Llama.\n",
    "\n",
    "The `chatlas` package attempts to overcome this by offering a set of classes and methods that have greater alignment across LLM providers.  This means that starting a chat, or using tool calling or other services will look the same or very similar, no matter which LLM provider you are using.  \n",
    "\n",
    "The following is a short illustratory demo of some of the features of `chatlas`.\n",
    "\n",
    "### Starting a chat session - OpenAI example"
   ],
   "id": "b598728966cda6c7"
  },
  {
   "cell_type": "code",
   "id": "initial_id",
   "metadata": {
    "collapsed": true
   },
   "source": [
    "# import packages and key environment variables\n",
    "from dotenv import load_dotenv\n",
    "from chatlas import ChatOpenAI, ChatAnthropic, ChatOllama\n",
    "import os\n",
    "\n",
    "load_dotenv()\n",
    "INSTANCE_ID = os.getenv('INSTANCE_ID')\n",
    "API_KEY = os.getenv('API_KEY')\n",
    "BASE_URL_STEM = os.getenv('BASE_URL_STEM')"
   ],
   "outputs": [],
   "execution_count": null
  },
  {
   "metadata": {},
   "cell_type": "code",
   "source": [
    "# set up an openai chat client\n",
    "PROVIDER = \"openai\"\n",
    "BASE_URL = f\"https://{PROVIDER}.{BASE_URL_STEM}/{INSTANCE_ID}/v1\"\n",
    "\n",
    "chat = ChatOpenAI(\n",
    "    model = \"gpt-4o\",\n",
    "    api_key = API_KEY,\n",
    "    base_url = BASE_URL,\n",
    "    system_prompt = \"You are a friendly but terse assistant.\",\n",
    ")"
   ],
   "id": "546d0dea3ecdc27b",
   "outputs": [],
   "execution_count": null
  },
  {
   "metadata": {},
   "cell_type": "code",
   "source": [
    "# start a chat app\n",
    "chat.app()"
   ],
   "id": "de449303d11dbb99",
   "outputs": [],
   "execution_count": null
  },
  {
   "metadata": {},
   "cell_type": "code",
   "source": [
    "# chat in the console\n",
    "chat.console()"
   ],
   "id": "233116d1326bace0",
   "outputs": [],
   "execution_count": null
  },
  {
   "metadata": {},
   "cell_type": "code",
   "source": [
    "# programmatic chat\n",
    "chat.chat(\"What exactly is a spirit vegetable?\")"
   ],
   "id": "ea91e7f6813d261f",
   "outputs": [],
   "execution_count": null
  },
  {
   "metadata": {},
   "cell_type": "markdown",
   "source": "### Tool (function) calling - OpenAI example",
   "id": "8fba4e5b0fc732ef"
  },
  {
   "metadata": {},
   "cell_type": "code",
   "source": [
    "# tool (function) calling - function to get current temperature\n",
    "import requests\n",
    "\n",
    "# function to get the current temperature in a place\n",
    "def get_current_temperature(place: str) -> str:\n",
    "  \"\"\"Get the current temperature in a given place.\"\"\"\n",
    "  base_url = f\"https://wttr.in/{place}?format=j1\"\n",
    "  response = requests.get(base_url)\n",
    "  data = response.json()\n",
    "  return f\"The current temperature in {place} is {data['current_condition'][0]['temp_C']} degrees Celsius\"\n",
    "\n",
    "# test the function\n",
    "get_current_temperature(\"London\")"
   ],
   "id": "529b5c906fcffc52",
   "outputs": [],
   "execution_count": null
  },
  {
   "metadata": {},
   "cell_type": "code",
   "source": [
    "# register the function with your chat\n",
    "chat.register_tool(get_current_temperature)"
   ],
   "id": "65defb7d518fddd8",
   "outputs": [],
   "execution_count": null
  },
  {
   "metadata": {},
   "cell_type": "code",
   "source": [
    "# now the chat can use it\n",
    "chat.chat(\"I'm in Atlanta today and I'm told I should wear warm clothes.  What do you think?\")"
   ],
   "id": "34ad12d2a1ff5161",
   "outputs": [],
   "execution_count": null
  },
  {
   "metadata": {},
   "cell_type": "markdown",
   "source": "### Structured data extraction - OpenAI example",
   "id": "efa6cc578725c5ed"
  },
  {
   "metadata": {},
   "cell_type": "code",
   "source": [
    "# pulling structured data out of text\n",
    "from pydantic import BaseModel\n",
    "\n",
    "class Person(BaseModel):\n",
    "    name: str\n",
    "    pets: int\n",
    "    skills: list[str]\n",
    "\n",
    "chat.extract_data(\n",
    "  \"My name is Keith.  I have two cats and one dog named Bertie.  I am very good at Math and Computer Games\", \n",
    "  data_model=Person,\n",
    ")"
   ],
   "id": "67578dd3cd639983",
   "outputs": [],
   "execution_count": null
  },
  {
   "metadata": {},
   "cell_type": "markdown",
   "source": "### Start a new chat - Anthropic example",
   "id": "ccccb8701a354ccf"
  },
  {
   "metadata": {},
   "cell_type": "code",
   "source": [
    "# now try a Anthropic chat client- note similar but not 100% identical to OpenAI\n",
    "PROVIDER = \"anthropic\"\n",
    "BASE_URL = f\"https://{PROVIDER}.{BASE_URL_STEM}/{INSTANCE_ID}\"\n",
    "\n",
    "chat = ChatAnthropic(\n",
    "    api_key = API_KEY,\n",
    "    system_prompt = \"You are a friendly but terse assistant.\",\n",
    "    kwargs = {\"base_url\": BASE_URL}  \n",
    ")"
   ],
   "id": "76591f56b64f261d",
   "outputs": [],
   "execution_count": null
  },
  {
   "metadata": {},
   "cell_type": "code",
   "source": [
    "# programmatic chat\n",
    "chat.chat(\"Which integer is commonly quoted as the answer to the meaning of life?\")"
   ],
   "id": "d70ea9b886585d52",
   "outputs": [],
   "execution_count": null
  },
  {
   "metadata": {},
   "cell_type": "code",
   "source": [
    "# register tool\n",
    "chat.register_tool(get_current_temperature)"
   ],
   "id": "9c96a9651a03fb06",
   "outputs": [],
   "execution_count": null
  },
  {
   "metadata": {},
   "cell_type": "code",
   "source": [
    "# check tool use\n",
    "chat.chat(\"My sister is heading to the capital of Norway next week?  How should she pack?\")"
   ],
   "id": "5e4c3154775c5434",
   "outputs": [],
   "execution_count": null
  },
  {
   "metadata": {},
   "cell_type": "code",
   "source": [
    "#  extract structured data\n",
    "class Person(BaseModel):\n",
    "    name: str\n",
    "    pets: int\n",
    "    areas_of_expertise: list[str]\n",
    "    qualifications: list[str]\n",
    "\n",
    "chat.extract_data(\n",
    "  \"\"\"\n",
    "  My name is Keith.  I had two cats and one dog named Bertie, but I recently sold the two cats.  I have a PhD in Pure Mathematics, and I am also a holder of the Licentiate Performing Diploma from Trinity College of Music in London, taking my final exams in the Recorder.\n",
    "  \"\"\", \n",
    "  data_model = Person,\n",
    ")"
   ],
   "id": "5ecd70896b849393",
   "outputs": [],
   "execution_count": null
  },
  {
   "metadata": {},
   "cell_type": "code",
   "source": [
    "# update structured information during chat session\n",
    "chat.extract_data(\n",
    "  \"\"\"\n",
    "  Oh it's Keith again.  I'm sorry, I'm so dumb.  I forgot to mention I also have a new puppy which we only just picked up this week.\n",
    "  \"\"\", \n",
    "  data_model = Person,\n",
    ")"
   ],
   "id": "584f688d80d5c25",
   "outputs": [],
   "execution_count": null
  },
  {
   "metadata": {},
   "cell_type": "code",
   "source": [
    "# update again\n",
    "chat.extract_data(\n",
    "  \"\"\"\n",
    "  It's Keith again.  I just spoke to my wife and she left the door open and the puppy ran out on the street and got killed.  It's a bad day.\n",
    "  \"\"\", \n",
    "  data_model = Person,\n",
    ")"
   ],
   "id": "11066ac7cdd4c858",
   "outputs": [],
   "execution_count": null
  },
  {
   "metadata": {},
   "cell_type": "markdown",
   "source": "### New chat session with local model using `ollama`",
   "id": "3cbaa26f33279b2a"
  },
  {
   "metadata": {},
   "cell_type": "code",
   "source": [
    "# local ollama model\n",
    "chat = ChatOllama(\n",
    "    model = \"llama3.1:8b\",\n",
    "    system_prompt = \"You are a friendly but terse assistant.\",\n",
    ")"
   ],
   "id": "27732f5e50317742",
   "outputs": [],
   "execution_count": null
  },
  {
   "metadata": {},
   "cell_type": "code",
   "source": [
    "# programmatic chat\n",
    "chat.chat(\"Explain Buddhism in two sentences\")"
   ],
   "id": "f962533a0b10ae32",
   "outputs": [],
   "execution_count": null
  },
  {
   "metadata": {},
   "cell_type": "code",
   "source": [
    "# extract data using earlier data model\n",
    "chat.extract_data(\n",
    "      \"\"\"\n",
    "  My name is Keith.  I had two cats and one dog named Bertie, but I recently sold the two cats.  I have a PhD in Pure Mathematics, and I am also a holder of the Licentiate Performing Diploma from Trinity College of Music in London, taking my final exams in the Recorder.\n",
    "  \"\"\", \n",
    "  data_model = Person,\n",
    ")"
   ],
   "id": "6cc03b776b958a08",
   "outputs": [],
   "execution_count": null
  },
  {
   "metadata": {},
   "cell_type": "code",
   "source": [
    "# register temperature tool\n",
    "chat.register_tool(get_current_temperature)"
   ],
   "id": "c877db11aa0a14f",
   "outputs": [],
   "execution_count": null
  },
  {
   "metadata": {},
   "cell_type": "code",
   "source": [
    "# use temperature tool\n",
    "chat.chat(\"I'm heading Tasmania tomorrow but I forgot my sunscreen.  Should I be concerned?\")"
   ],
   "id": "b3c8f9dea04b01db",
   "outputs": [],
   "execution_count": null
  }
 ],
 "metadata": {
  "kernelspec": {
   "display_name": "Python 3",
   "language": "python",
   "name": "python3"
  },
  "language_info": {
   "codemirror_mode": {
    "name": "ipython",
    "version": 2
   },
   "file_extension": ".py",
   "mimetype": "text/x-python",
   "name": "python",
   "nbconvert_exporter": "python",
   "pygments_lexer": "ipython2",
   "version": "2.7.6"
  }
 },
 "nbformat": 4,
 "nbformat_minor": 5
}

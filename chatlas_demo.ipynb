{
 "cells": [
  {
   "cell_type": "code",
   "id": "initial_id",
   "metadata": {
    "collapsed": true
   },
   "source": [
    "# import packages and key environment variables\n",
    "from dotenv import load_dotenv\n",
    "from chatlas import ChatOpenAI, ChatAnthropic, ChatOllama\n",
    "import os\n",
    "\n",
    "load_dotenv()\n",
    "INSTANCE_ID = os.getenv('INSTANCE_ID')\n",
    "API_KEY = os.getenv('API_KEY')\n",
    "BASE_URL_STEM = os.getenv('BASE_URL_STEM')"
   ],
   "outputs": [],
   "execution_count": null
  },
  {
   "metadata": {},
   "cell_type": "code",
   "source": [
    "# set up an openai chat client\n",
    "PROVIDER = \"openai\"\n",
    "BASE_URL = f\"https://{PROVIDER}.{BASE_URL_STEM}/{INSTANCE_ID}/v1\"\n",
    "\n",
    "chat = ChatOpenAI(\n",
    "    model = \"gpt-4o\",\n",
    "    api_key = API_KEY,\n",
    "    base_url = BASE_URL,\n",
    "    system_prompt = \"You are a friendly but terse assistant.\",\n",
    ")"
   ],
   "id": "546d0dea3ecdc27b",
   "outputs": [],
   "execution_count": null
  },
  {
   "metadata": {},
   "cell_type": "code",
   "source": [
    "# start a chat app\n",
    "chat.app()"
   ],
   "id": "de449303d11dbb99",
   "outputs": [],
   "execution_count": null
  },
  {
   "metadata": {},
   "cell_type": "code",
   "source": [
    "# chat in the console\n",
    "chat.console()"
   ],
   "id": "233116d1326bace0",
   "outputs": [],
   "execution_count": null
  },
  {
   "metadata": {},
   "cell_type": "code",
   "source": [
    "# programmatic chat\n",
    "chat.chat(\"What exactly is a spirit vegetable?\")"
   ],
   "id": "ea91e7f6813d261f",
   "outputs": [],
   "execution_count": null
  },
  {
   "metadata": {},
   "cell_type": "code",
   "source": [
    "# tool (function) calling - function to get current temperature\n",
    "import requests\n",
    "\n",
    "# function to get the current temperature in a place\n",
    "def get_current_temperature(place: str) -> str:\n",
    "  \"\"\"Get the current temperature in a given place.\"\"\"\n",
    "  base_url = f\"https://wttr.in/{place}?format=j1\"\n",
    "  response = requests.get(base_url)\n",
    "  data = response.json()\n",
    "  return f\"The current temperature in {place} is {data['current_condition'][0]['temp_C']} degrees Celsius\"\n",
    "\n",
    "# test the function\n",
    "get_current_temperature(\"London\")"
   ],
   "id": "529b5c906fcffc52",
   "outputs": [],
   "execution_count": null
  },
  {
   "metadata": {},
   "cell_type": "code",
   "source": [
    "# register the function with your chat\n",
    "chat.register_tool(get_current_temperature)"
   ],
   "id": "65defb7d518fddd8",
   "outputs": [],
   "execution_count": null
  },
  {
   "metadata": {},
   "cell_type": "code",
   "source": [
    "# now the chat can use it\n",
    "chat.chat(\"I'm in Atlanta today and I'm told I should wear warm clothes.  What do you think?\")"
   ],
   "id": "34ad12d2a1ff5161",
   "outputs": [],
   "execution_count": null
  },
  {
   "metadata": {},
   "cell_type": "code",
   "source": [
    "# pulling structured data out of text\n",
    "from pydantic import BaseModel, Field\n",
    "\n",
    "class Person(BaseModel):\n",
    "    name: str\n",
    "    pets: int\n",
    "    skills: list[str]\n",
    "\n",
    "chat.extract_data(\n",
    "  \"My name is Keith.  I have two cats and one dog named Bertie.  I am very good at Math and Computer Games\", \n",
    "  data_model=Person,\n",
    ")"
   ],
   "id": "67578dd3cd639983",
   "outputs": [],
   "execution_count": null
  },
  {
   "metadata": {},
   "cell_type": "code",
   "source": [
    "# now try a Anthropic chat client\n",
    "PROVIDER = \"anthropic\"\n",
    "BASE_URL = f\"https://{PROVIDER}.{BASE_URL_STEM}/{INSTANCE_ID}\"\n",
    "\n",
    "chat = ChatAnthropic(\n",
    "    api_key = API_KEY,\n",
    "    system_prompt = \"You are a friendly but terse assistant.\",\n",
    "    kwargs = {\"base_url\": BASE_URL}  \n",
    ")"
   ],
   "id": "76591f56b64f261d",
   "outputs": [],
   "execution_count": null
  },
  {
   "metadata": {},
   "cell_type": "code",
   "source": "chat.chat(\"Which integer is commonly quoted as the answer to the meaning of life?\")",
   "id": "d70ea9b886585d52",
   "outputs": [],
   "execution_count": null
  },
  {
   "metadata": {},
   "cell_type": "code",
   "source": "chat.register_tool(get_current_temperature)",
   "id": "9c96a9651a03fb06",
   "outputs": [],
   "execution_count": null
  },
  {
   "metadata": {},
   "cell_type": "code",
   "source": "chat.chat(\"My sister is heading to the capital of Norway next week?  How should she pack?\")",
   "id": "5e4c3154775c5434",
   "outputs": [],
   "execution_count": null
  },
  {
   "metadata": {},
   "cell_type": "code",
   "source": [
    "# structured data\n",
    "class Person(BaseModel):\n",
    "    name: str\n",
    "    pets: int\n",
    "    areas_of_expertise: list[str]\n",
    "    qualifications: list[str]\n",
    "\n",
    "chat.extract_data(\n",
    "  \"\"\"\n",
    "  My name is Keith.  I had two cats and one dog named Bertie, but I recently sold the two cats.  I have a PhD in Pure Mathematics, and I am also a holder of the Licentiate Performing Diploma from Trinity College of Music in London, taking my final exams in the Recorder.\n",
    "  \"\"\", \n",
    "  data_model = Person,\n",
    ")"
   ],
   "id": "5ecd70896b849393",
   "outputs": [],
   "execution_count": null
  },
  {
   "metadata": {},
   "cell_type": "code",
   "source": [
    "# add more information\n",
    "chat.extract_data(\n",
    "  \"\"\"\n",
    "  Oh it's Keith again.  I'm sorry, I'm so dumb.  I forgot to mention I also have a new puppy which we only just picked up this week.\n",
    "  \"\"\", \n",
    "  data_model = Person,\n",
    ")"
   ],
   "id": "584f688d80d5c25",
   "outputs": [],
   "execution_count": null
  },
  {
   "metadata": {},
   "cell_type": "code",
   "source": [
    "# add more information\n",
    "chat.extract_data(\n",
    "  \"\"\"\n",
    "  It's Keith again.  I just spoke to my wife and she left the door open and the puppy ran out on the street and got killed.  It's a bad day.\n",
    "  \"\"\", \n",
    "  data_model = Person,\n",
    ")"
   ],
   "id": "11066ac7cdd4c858",
   "outputs": [],
   "execution_count": null
  },
  {
   "metadata": {},
   "cell_type": "code",
   "source": [
    "# local ollama models\n",
    "chat = ChatOllama(\n",
    "    model = \"llama3.1:8b\",\n",
    "    system_prompt = \"You are a friendly but terse assistant.\",\n",
    ")"
   ],
   "id": "27732f5e50317742",
   "outputs": [],
   "execution_count": null
  },
  {
   "metadata": {},
   "cell_type": "code",
   "source": "chat.chat(\"Explain Buddhism in two sentences\")",
   "id": "f962533a0b10ae32",
   "outputs": [],
   "execution_count": null
  },
  {
   "metadata": {},
   "cell_type": "code",
   "source": [
    "chat.extract_data(\n",
    "      \"\"\"\n",
    "  My name is Keith.  I had two cats and one dog named Bertie, but I recently sold the two cats.  I have a PhD in Pure Mathematics, and I am also a holder of the Licentiate Performing Diploma from Trinity College of Music in London, taking my final exams in the Recorder.\n",
    "  \"\"\", \n",
    "  data_model = Person,\n",
    ")"
   ],
   "id": "6cc03b776b958a08",
   "outputs": [],
   "execution_count": null
  },
  {
   "metadata": {},
   "cell_type": "code",
   "source": "chat.register_tool(get_current_temperature)",
   "id": "c877db11aa0a14f",
   "outputs": [],
   "execution_count": null
  },
  {
   "metadata": {},
   "cell_type": "code",
   "source": "chat.chat(\"I'm heading Tasmania tomorrow but I forgot my sunscreen.  Should I be concerned?\")",
   "id": "b3c8f9dea04b01db",
   "outputs": [],
   "execution_count": null
  },
  {
   "metadata": {},
   "cell_type": "code",
   "source": "",
   "id": "bec0a20b264248c2",
   "outputs": [],
   "execution_count": null
  }
 ],
 "metadata": {
  "kernelspec": {
   "display_name": "Python 3",
   "language": "python",
   "name": "python3"
  },
  "language_info": {
   "codemirror_mode": {
    "name": "ipython",
    "version": 2
   },
   "file_extension": ".py",
   "mimetype": "text/x-python",
   "name": "python",
   "nbconvert_exporter": "python",
   "pygments_lexer": "ipython2",
   "version": "2.7.6"
  }
 },
 "nbformat": 4,
 "nbformat_minor": 5
}
